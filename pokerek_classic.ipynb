{
 "cells": [
  {
   "cell_type": "code",
   "execution_count": 1,
   "metadata": {},
   "outputs": [],
   "source": [
    "import random as rng\n",
    "from itertools import product\n",
    "from collections import Counter"
   ]
  },
  {
   "cell_type": "code",
   "execution_count": 2,
   "metadata": {},
   "outputs": [
    {
     "name": "stdout",
     "output_type": "stream",
     "text": [
      "Ace of Diamonds\n"
     ]
    }
   ],
   "source": [
    "class Card:\n",
    "    def __init__(self,fig,col):\n",
    "        self.colour = col\n",
    "        self.figure = fig\n",
    "        self.slownik =[\n",
    "            {\n",
    "            '2' : '2',\n",
    "            '3' : '3',\n",
    "            '4' : '4',\n",
    "            '5' : '5',\n",
    "            '6' : '6',\n",
    "            '7' : '7',\n",
    "            '8' : '8',\n",
    "            '9' : '9',\n",
    "            '10' : '10',\n",
    "            'J' : 'Jack',\n",
    "            'Q' : 'Queen',\n",
    "            'K' : 'King',\n",
    "            'A' : 'Ace'},\n",
    "            {\n",
    "            'H': 'Hearts',\n",
    "            'D': 'Diamonds',\n",
    "            'C': 'Clubs',\n",
    "            'S': 'Spades'}\n",
    "            ]\n",
    "    \n",
    "        rank_dict = {figure : rank for rank,figure in enumerate(self.slownik[0].keys())}\n",
    "        self.rank_of_card = rank_dict[self.figure]\n",
    "    def __str__(self):\n",
    "        return f'{self.slownik[0][self.figure]} of {self.slownik[1][self.colour]}'\n",
    "    \n",
    "    def __repr__(self):\n",
    "        return f'{self.figure}{self.colour}'\n",
    "\n",
    "    def __lt__(self,other):\n",
    "        return self.rank_of_card < other.rank_of_card\n",
    "    def __le__(self,other):\n",
    "        return self.rank_of_card <= other.rank_of_card\n",
    "    def __gt__(self,other):\n",
    "        return self.rank_of_card > other.rank_of_card\n",
    "    def __ge__(self,other):\n",
    "        return self.rank_of_card >= other.rank_of_card\n",
    "    def __eq__(self,other):\n",
    "        return self.rank_of_card == other.rank_of_card\n",
    "\n",
    "c = Card('A', 'D')\n",
    "print(c)\n"
   ]
  },
  {
   "cell_type": "markdown",
   "metadata": {},
   "source": [
    "definicja obiektu <u>KARTA</u>, z atrybutamni"
   ]
  },
  {
   "cell_type": "code",
   "execution_count": 3,
   "metadata": {},
   "outputs": [],
   "source": [
    "class Deck:\n",
    "    def __init__(self):\n",
    "        figures = '2 3 4 5 6 7 8 9 10 J Q K A'.split()\n",
    "        colours = 'H D C S'.split()\n",
    "        self.talia = []\n",
    "        for i in product (figures, colours):\n",
    "            self.talia.append(Card(i[0], i[1]))\n",
    "    def __len__(self):\n",
    "        return len(self.talia)\n",
    "    def shuffle(self):\n",
    "        temp_deck = self.talia[:]\n",
    "        self.talia = []\n",
    "        while temp_deck:\n",
    "            self.talia.append(temp_deck.pop(rng.randint(0,len(temp_deck)-1)))\n",
    "        #print(temp_deck)\n",
    "    def draw(self, n = 1):\n",
    "        card_list = []\n",
    "        while n:\n",
    "            card_list.append(self.talia.pop())\n",
    "            n-=1\n",
    "        return card_list\n",
    "    def reset(self):\n",
    "        self.__init__()\n",
    "        self.shuffle()\n",
    "t = Deck()\n",
    "t.shuffle()\n"
   ]
  },
  {
   "cell_type": "code",
   "execution_count": 4,
   "metadata": {},
   "outputs": [],
   "source": [
    "class Hand:\n",
    "    def __init__(self):\n",
    "        self.cards_in_hand = []\n",
    "        self.high_card = None\n",
    "    def get_card(self, talia: Deck, n :int):\n",
    "        for card in talia.draw(n):\n",
    "            self.cards_in_hand.append(card)\n",
    "    def find_high_card(self):\n",
    "        self.high_card = (self.cards_in_hand[0])\n",
    "        for card in self.cards_in_hand:\n",
    "            if card.rank_of_card > self.high_card.rank_of_card:\n",
    "                self.high_card = card\n",
    "    def reset_hand(self):\n",
    "        self.cards_in_hand = []\n",
    "        self.high_card = None\n",
    "\n",
    "    def has_a_pair(self):\n",
    "        all_cards = sorted(self.cards_in_hand + self.cards_on_table)\n",
    "        ranks_in_hand = [r.rank_of_card for r in all_cards]\n",
    "        print(all_cards)\n",
    "        print(ranks_in_hand)\n",
    "        ile_czego = Counter(ranks_in_hand)\n",
    "        print(ile_czego.values())\n",
    "        ile_ile = Counter(ile_czego.values())\n",
    "        print(ile_ile)\n",
    "\n",
    "h1 = Hand()\n",
    "h1.get_card(t,2)"
   ]
  },
  {
   "cell_type": "code",
   "execution_count": 6,
   "metadata": {},
   "outputs": [
    {
     "name": "stdout",
     "output_type": "stream",
     "text": [
      "  \n",
      " player name:Ziutek \n",
      " current $$ :0 \n",
      " cards in hand: [KS, 9H]\n",
      " high card :None\n",
      "  \n",
      " player name:Fiutek \n",
      " current $$ :0 \n",
      " cards in hand: [10H, 5C]\n",
      " high card :None\n"
     ]
    }
   ],
   "source": [
    "class Player:\n",
    "    def __init__(self, name = ''):        \n",
    "        self.name = name\n",
    "        self.balance = 0\n",
    "        self.hand = Hand()\n",
    "        self.hand_history = []\n",
    "    def __repr__(self):\n",
    "        return f\"\"\"  \\n player name:{self.name} \\n current $$ :{self.balance} \\n cards in hand: {self.hand.cards_in_hand}\\n high card :{self.hand.high_card}\"\"\"\n",
    "p1 = Player ('Ziutek')\n",
    "p1.hand.get_card(t,2)\n",
    "p2 = Player ('Fiutek')\n",
    "p2.hand.get_card(t,2)\n",
    "print(p1)\n",
    "print(p2)\n"
   ]
  },
  {
   "cell_type": "code",
   "execution_count": 7,
   "metadata": {},
   "outputs": [
    {
     "ename": "AttributeError",
     "evalue": "'Hand' object has no attribute 'cards_on_table'",
     "output_type": "error",
     "traceback": [
      "\u001b[0;31m---------------------------------------------------------------------------\u001b[0m",
      "\u001b[0;31mAttributeError\u001b[0m                            Traceback (most recent call last)",
      "Cell \u001b[0;32mIn [7], line 43\u001b[0m\n\u001b[1;32m     41\u001b[0m         \u001b[38;5;28;01mreturn\u001b[39;00m \u001b[38;5;28;01mTrue\u001b[39;00m\n\u001b[1;32m     42\u001b[0m g1 \u001b[38;5;241m=\u001b[39m Game([p1,p2], blind \u001b[38;5;241m=\u001b[39m \u001b[38;5;241m100\u001b[39m)\n\u001b[0;32m---> 43\u001b[0m \u001b[43mg1\u001b[49m\u001b[38;5;241;43m.\u001b[39;49m\u001b[43mturn_flop\u001b[49m\u001b[43m(\u001b[49m\u001b[43m)\u001b[49m\n\u001b[1;32m     44\u001b[0m \u001b[38;5;28mprint\u001b[39m(p1)\n\u001b[1;32m     45\u001b[0m \u001b[38;5;28mprint\u001b[39m(p2)\n",
      "Cell \u001b[0;32mIn [7], line 20\u001b[0m, in \u001b[0;36mGame.turn_flop\u001b[0;34m(self)\u001b[0m\n\u001b[1;32m     18\u001b[0m \u001b[38;5;28;01mfor\u001b[39;00m player \u001b[38;5;129;01min\u001b[39;00m \u001b[38;5;28mself\u001b[39m\u001b[38;5;241m.\u001b[39mlist_of_players:\n\u001b[1;32m     19\u001b[0m     \u001b[38;5;28;01mfor\u001b[39;00m card \u001b[38;5;129;01min\u001b[39;00m flop:\n\u001b[0;32m---> 20\u001b[0m         \u001b[43mplayer\u001b[49m\u001b[38;5;241;43m.\u001b[39;49m\u001b[43mhand\u001b[49m\u001b[38;5;241;43m.\u001b[39;49m\u001b[43mcards_on_table\u001b[49m\u001b[38;5;241m.\u001b[39mappend(card)\n\u001b[1;32m     21\u001b[0m \u001b[38;5;28;01mfor\u001b[39;00m player \u001b[38;5;129;01min\u001b[39;00m \u001b[38;5;28mself\u001b[39m\u001b[38;5;241m.\u001b[39mlist_of_players:\n\u001b[1;32m     22\u001b[0m     player\u001b[38;5;241m.\u001b[39mhand\u001b[38;5;241m.\u001b[39mfind_high_card()\n",
      "\u001b[0;31mAttributeError\u001b[0m: 'Hand' object has no attribute 'cards_on_table'"
     ]
    }
   ],
   "source": [
    "class Game:\n",
    "    def __init__(self, players, blind = 0):\n",
    "        self.start_time = None  # to work on\n",
    "        self.end_time   = None  #  as above\n",
    "        self.list_of_players= [] \n",
    "        self.deck = Deck()\n",
    "        self.deck.shuffle()\n",
    "\n",
    "        for player in players:\n",
    "            self.list_of_players.append(player)\n",
    "        \n",
    "        self.loot = blind\n",
    "        self.blind_value = 0\n",
    "        self.small_blind_value = self.blind_value//2\n",
    "        self.loot = self.blind_value + self.small_blind_value\n",
    "    def turn_flop(self):\n",
    "        flop = self.deck.draw(3)\n",
    "        for player in self.list_of_players:\n",
    "            for card in flop:\n",
    "                player.hand.cards_on_table.append(card)\n",
    "        for player in self.list_of_players:\n",
    "            player.hand.find_high_card()\n",
    "        print('*********FLOP********')\n",
    "\n",
    "    def turn_turn(self):\n",
    "        turn = self.deck.draw(1)\n",
    "        for player in self.list_of_players:\n",
    "            player.hand.cards_on_table.append(turn[0])\n",
    "        for player in self.list_of_players:\n",
    "            player.hand.find_high_card()\n",
    "        print('*********TURN********')\n",
    "    def turn_river(self):\n",
    "        turn = self.deck.draw(1)\n",
    "        for player in self.list_of_players:\n",
    "            player.hand.cards_on_table.append(turn[0])\n",
    "        for player in self.list_of_players:\n",
    "            player.hand.find_high_card()\n",
    "        print('*********RIVER********')\n",
    "\n",
    "    def end_game(self):\n",
    "        return True\n",
    "g1 = Game([p1,p2], blind = 100)\n",
    "g1.turn_flop()\n",
    "print(p1)\n",
    "print(p2)\n",
    "g1.turn_turn()\n",
    "print(p1)\n",
    "print(p2)\n",
    "g1.turn_river()\n",
    "print(p1)\n",
    "print(p2)\n",
    "g1 = Game([p1,p2], blind = 100)"
   ]
  },
  {
   "cell_type": "code",
   "execution_count": null,
   "metadata": {},
   "outputs": [
    {
     "ename": "",
     "evalue": "",
     "output_type": "error",
     "traceback": [
      "\u001b[1;31mUruchomienie komórek z elementem „Python 3.10.7 64-bit” wymaga pakietu ipykernel.\n",
      "\u001b[1;31mUruchom następujące polecenie, aby zainstalować element „ipykernel” w środowisku języka Python. \n",
      "\u001b[1;31mPolecenie: „/bin/python3.10 -m pip install ipykernel -U --user --force-reinstall”"
     ]
    }
   ],
   "source": []
  }
 ],
 "metadata": {
  "kernelspec": {
   "display_name": "Python 3.8.10 64-bit",
   "language": "python",
   "name": "python3"
  },
  "language_info": {
   "codemirror_mode": {
    "name": "ipython",
    "version": 3
   },
   "file_extension": ".py",
   "mimetype": "text/x-python",
   "name": "python",
   "nbconvert_exporter": "python",
   "pygments_lexer": "ipython3",
   "version": "3.8.10"
  },
  "orig_nbformat": 4,
  "vscode": {
   "interpreter": {
    "hash": "916dbcbb3f70747c44a77c7bcd40155683ae19c65e1c03b4aa3499c5328201f1"
   }
  }
 },
 "nbformat": 4,
 "nbformat_minor": 2
}
