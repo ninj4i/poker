{
 "cells": [
  {
   "cell_type": "code",
   "execution_count": 3,
   "metadata": {},
   "outputs": [],
   "source": [
    "import random as rng\n",
    "from itertools import product\n",
    "from collections import Counter"
   ]
  },
  {
   "cell_type": "markdown",
   "metadata": {},
   "source": [
    "<h3> DEFINICJA OBIEKTU KARTA </h3>\n",
    "<p> karta może być figurą od 2 do A, i mieć kolor:<br> [H]eart [D]iamonds [C]lubs [S]pades<br> KIER___KARO_____TREFL__PIK</p>\n",
    "\n",
    "<p>kazda figura ma przypisaną rangę (self.rank) od 0 do 12. <br>Rangi pozwalają na sortowanie kart</p>"
   ]
  },
  {
   "cell_type": "code",
   "execution_count": 4,
   "metadata": {},
   "outputs": [],
   "source": [
    "class Card:\n",
    "    def __init__(self,fig,col):\n",
    "        self.slownik =[\n",
    "            {\n",
    "            '2' : '2',\n",
    "            '3' : '3',\n",
    "            '4' : '4',\n",
    "            '5' : '5',\n",
    "            '6' : '6',\n",
    "            '7' : '7',\n",
    "            '8' : '8',\n",
    "            '9' : '9',\n",
    "            '10' : '10',\n",
    "            'J' : 'Jack',\n",
    "            'Q' : 'Queen',\n",
    "            'K' : 'King',\n",
    "            'A' : 'Ace'},\n",
    "            {\n",
    "            'H': 'Hearts',\n",
    "            'D': 'Diamonds',\n",
    "            'C': 'Clubs',\n",
    "            'S': 'Spades'}\n",
    "            ]\n",
    "        \n",
    "        \n",
    "        while fig.upper() not in self.slownik[0].keys():\n",
    "            print('błędne oznaczenie figury karty')\n",
    "            fig = input('Podaj poprawne oznaczenie figury karty: ')\n",
    "        self.figure = fig.upper()\n",
    "        \n",
    "        while col.upper() not in self.slownik[1].keys():\n",
    "            print('błędne oznaczenie koloru karty')\n",
    "            col = input('Podaj poprawne oznaczenie koloru karty: ')\n",
    "        self.colour = col.upper()\n",
    "        \n",
    "\n",
    "        rank_dict = {figure : rank for rank,figure in enumerate(self.slownik[0].keys())}\n",
    "        self.rank_of_card = rank_dict[self.figure]\n",
    "\n",
    "    def __enter__(self):\n",
    "        return self\n",
    "\n",
    "    def __str__(self):\n",
    "        return f'{self.slownik[0][self.figure]} of {self.slownik[1][self.colour]}'\n",
    "    \n",
    "    def __repr__(self):\n",
    "        return f'{self.figure}{self.colour}'\n",
    "\n",
    "    def __lt__(self,other):\n",
    "        return self.rank_of_card < other.rank_of_card\n",
    "    def __le__(self,other):\n",
    "        return self.rank_of_card <= other.rank_of_card\n",
    "    def __gt__(self,other):\n",
    "        return self.rank_of_card > other.rank_of_card\n",
    "    def __ge__(self,other):\n",
    "        return self.rank_of_card >= other.rank_of_card\n",
    "    def __eq__(self,other):\n",
    "        return self.rank_of_card == other.rank_of_card\n"
   ]
  },
  {
   "cell_type": "markdown",
   "metadata": {},
   "source": [
    "<p>małe testy karty </p>"
   ]
  },
  {
   "cell_type": "code",
   "execution_count": 5,
   "metadata": {},
   "outputs": [
    {
     "name": "stdout",
     "output_type": "stream",
     "text": [
      "AD\n",
      "True\n"
     ]
    }
   ],
   "source": [
    "print(Card('A', 'D').__repr__())\n",
    "print(Card('3', 'h') < Card('j','s'))"
   ]
  },
  {
   "cell_type": "markdown",
   "metadata": {},
   "source": [
    "<h3> DEFINICJA OBIEKTU TALIA </h3> "
   ]
  },
  {
   "cell_type": "code",
   "execution_count": 6,
   "metadata": {},
   "outputs": [],
   "source": [
    "class Deck:\n",
    "    def __init__(self):\n",
    "        figures = '2 3 4 5 6 7 8 9 10 J Q K A'.split()\n",
    "        colours = 'H D C S'.split()\n",
    "        self.talia = []\n",
    "        for i in product (figures, colours):\n",
    "            self.talia.append(Card(i[0], i[1]))\n",
    "    def __len__(self):\n",
    "        return len(self.talia)\n",
    "    \n",
    "    def __enter__(self):\n",
    "        return self\n",
    "\n",
    "    def __str__(self):\n",
    "        return f'karty w talii [{len(self)}]: \\n{self.talia}\\n * * * * *'\n",
    "    def shuffle(self):\n",
    "        temp_deck = self.talia[:]\n",
    "        self.talia = []\n",
    "        while temp_deck:\n",
    "            self.talia.append(temp_deck.pop(rng.randint(0,len(temp_deck)-1)))\n",
    "        #print(temp_deck)\n",
    "    def draw(self, n = 1):\n",
    "        card_list = []\n",
    "        while n:\n",
    "            card_list.append(self.talia.pop())\n",
    "            n-=1\n",
    "        return card_list\n",
    "    def reset(self):\n",
    "        self.__init__()\n",
    "        self.shuffle()\n",
    "\n"
   ]
  },
  {
   "cell_type": "markdown",
   "metadata": {},
   "source": [
    "małe testy talii"
   ]
  },
  {
   "cell_type": "code",
   "execution_count": 7,
   "metadata": {},
   "outputs": [
    {
     "name": "stdout",
     "output_type": "stream",
     "text": [
      "karty w talii [52]: \n",
      "[2H, 2D, 2C, 2S, 3H, 3D, 3C, 3S, 4H, 4D, 4C, 4S, 5H, 5D, 5C, 5S, 6H, 6D, 6C, 6S, 7H, 7D, 7C, 7S, 8H, 8D, 8C, 8S, 9H, 9D, 9C, 9S, 10H, 10D, 10C, 10S, JH, JD, JC, JS, QH, QD, QC, QS, KH, KD, KC, KS, AH, AD, AC, AS]\n",
      " * * * * *\n",
      "[AS, AC, AD, AH, KS, KC, KD, KH, QS, QC]\n",
      "10\n",
      "karty w talii [42]: \n",
      "[2H, 2D, 2C, 2S, 3H, 3D, 3C, 3S, 4H, 4D, 4C, 4S, 5H, 5D, 5C, 5S, 6H, 6D, 6C, 6S, 7H, 7D, 7C, 7S, 8H, 8D, 8C, 8S, 9H, 9D, 9C, 9S, 10H, 10D, 10C, 10S, JH, JD, JC, JS, QH, QD]\n",
      " * * * * *\n",
      "42\n"
     ]
    }
   ],
   "source": [
    "t = Deck()\n",
    "print(t)\n",
    "x = t.draw(10)\n",
    "print(x)\n",
    "print(len(x))\n",
    "print(t)\n",
    "print(len(t))"
   ]
  },
  {
   "cell_type": "code",
   "execution_count": 8,
   "metadata": {},
   "outputs": [],
   "source": [
    "class Hand:\n",
    "    def __init__(self):\n",
    "        self.cards_in_hand = []\n",
    "        self.high_card = None\n",
    "        self.in_hand = {\n",
    "            'high_card' : None,\n",
    "            'pairs' : [],  # pairs\n",
    "            'two_pairs' : [],\n",
    "            'threes' : [], # threes\n",
    "            'straight' : [], # straights\n",
    "            'flush' : [], # flushes\n",
    "            'full_house' : [], #full house\n",
    "            'fours' : [], # fours of a kind\n",
    "            'straight_flush' : [] # straight flushes\n",
    "            }\n",
    "    def get_card(self, talia: Deck, n :int):\n",
    "        for card in talia.draw(n):\n",
    "            self.cards_in_hand.append(card)\n",
    "        self.find_high_card()\n",
    "    \n",
    "    def get_specific_cards(self, talia: Deck, list_of_cards: list):\n",
    "        for card in list_of_cards:\n",
    "            self.cards_in_hand.append(Card(card.upper()[:-1],card.upper()[-1]))\n",
    "            for id, card_in_deck in enumerate(talia.talia):\n",
    "                if card_in_deck.figure == card.upper()[0] and card_in_deck.colour == card.upper()[1]:\n",
    "                    del talia.talia[id]\n",
    "        self.find_high_card()\n",
    "\n",
    "    def find_high_card(self):\n",
    "        self.high_card = (self.cards_in_hand[0])\n",
    "        for card in self.cards_in_hand:\n",
    "            if card.rank_of_card > self.high_card.rank_of_card:\n",
    "                self.high_card = card\n",
    "\n",
    "    def __str__(self):\n",
    "        return f'cards in hand:\\n{sorted(self.cards_in_hand)}\\nHigh Card: {self.high_card}'\n",
    "\n",
    "    def reset_hand(self):\n",
    "        self.__init__()\n",
    "        \n",
    "    def check_hand(self):\n",
    "        #print('**********')\n",
    "        \n",
    "        ranks = sorted([card.rank_of_card for card in self.cards_in_hand])\n",
    "        if [ranks[i+1] - ranks[i] for i in range(0,4)] == [1,1,1,1]:\n",
    "            self.in_hand['straight'] = ranks[-1]\n",
    "\n",
    "        self.high_card = (sorted(self.cards_in_hand)[-1], ranks[-1])\n",
    "        self.in_hand['high_card'] = ranks[-1]\n",
    "\n",
    "        figures_in_hand = [card.rank_of_card for card in self.cards_in_hand]  \n",
    "        #print(self.cards_in_hand)\n",
    "        #print(f'{sorted(figures_in_hand)=}')\n",
    "        ile_czego = list(Counter(sorted(figures_in_hand)).items())\n",
    "\n",
    "        if len(set([card.colour for card in self.cards_in_hand])) == 1 :\n",
    "            self.in_hand['flush'] = self.cards_in_hand[0].colour\n",
    "\n",
    "        if self.in_hand['flush'] and self.in_hand['straight']:\n",
    "            self.in_hand['straight_flush'] = self.in_hand['straight']\n",
    "\n",
    "        #print(f'{ile_czego = }')\n",
    "        while len(ile_czego):\n",
    "            a = ile_czego.pop()\n",
    "            if a[1] == 2:\n",
    "                self.in_hand['pairs'].append(a[0])\n",
    "            elif a[1] == 3:\n",
    "                self.in_hand['threes'].append(a[0])\n",
    "            elif a[1] == 4:\n",
    "                self.in_hand['fours'].append(a[0])\n",
    "\n",
    "        if len(self.in_hand['pairs']) == 2:\n",
    "            self.in_hand['two_pairs'] = sorted(self.in_hand['pairs'],reverse=True)[:2]\n",
    "        if all((self.in_hand['threes'],self.in_hand['pairs'])):\n",
    "            self.in_hand['full_house'] = (self.in_hand['threes']+ self.in_hand['pairs'])\n",
    "\n",
    "\n",
    "    def __lt__(self, other):\n",
    "        if max([(i, suit) for i, suit in enumerate(self.in_hand.values()) if suit]) ==  max([(i, suit) for i, suit in enumerate(other.in_hand.values()) if suit]):\n",
    "            return self.in_hand[\"high_card\"] < other.in_hand[\"high_card\"]\n",
    "        else:\n",
    "            return max([(i, suit) for i, suit in enumerate(self.in_hand.values()) if suit]) < max([(i, suit) for i, suit in enumerate(other.in_hand.values()) if suit])\n",
    "\n",
    "\n",
    "    def __eq__(self, other):\n",
    "        if self.in_hand['high_card'] == other.in_hand['high_card']:\n",
    "            return max([i for i, suit in enumerate(self.in_hand.items()) if suit]) == max([i for i, suit in enumerate(self.in_hand.items()) if suit])\n",
    "        else:\n",
    "            return False\n",
    "\n",
    "\n",
    "    def __gt__(self, other):\n",
    "        if max([(i, suit) for i, suit in enumerate(self.in_hand.values()) if suit]) ==  max([(i, suit) for i, suit in enumerate(other.in_hand.values()) if suit]):\n",
    "            return self.in_hand[\"high_card\"] > other.in_hand[\"high_card\"]\n",
    "        else:\n",
    "            return max([(i, suit) for i, suit in enumerate(self.in_hand.values()) if suit]) > max([(i, suit) for i, suit in enumerate(other.in_hand.values()) if suit])\n",
    "\n",
    "        #print(self.in_hand)\n",
    "        #print([q for q in self.in_hand.items() if q[1] != []])"
   ]
  },
  {
   "cell_type": "code",
   "execution_count": 9,
   "metadata": {},
   "outputs": [
    {
     "name": "stdout",
     "output_type": "stream",
     "text": [
      "{'high_card': 10, 'pairs': [6, 0], 'two_pairs': [6, 0], 'threes': [], 'straight': [], 'flush': [], 'full_house': [], 'fours': [], 'straight_flush': []}\n",
      "{'high_card': 11, 'pairs': [11, 9, 6], 'two_pairs': [], 'threes': [], 'straight': [], 'flush': [], 'full_house': [], 'fours': [], 'straight_flush': []}\n",
      "**********\n",
      "<  False   \n",
      "=  False   \n",
      ">   True   \n",
      "**********\n",
      "False\n"
     ]
    }
   ],
   "source": [
    "ta = Deck()\n",
    "reka = Hand()\n",
    "reka2 = Hand()\n",
    "\n",
    "reka.get_specific_cards(ta,['2h', '2d', 'qs', '8C','8D'])\n",
    "reka2.get_specific_cards(ta,['JS', 'jc', 'KS', '8S','8H','kh'])\n",
    "reka.check_hand()\n",
    "reka2.check_hand()\n",
    "\n",
    "print(reka.in_hand)\n",
    "print(reka2.in_hand)\n",
    "print('*'*10)\n",
    "\n",
    "print(f'<{str(reka <  reka2):^10}')\n",
    "print(f'={str(reka ==  reka2):^10}')\n",
    "print(f'>{str(reka >  reka2):^10}')\n",
    "print('*'*10)\n",
    "\n",
    "#print(max([(i,s) for i, s in enumerate(reka.in_hand.values()) if s]))\n",
    "#print(reka.in_hand[\"high_card\"])\n",
    "#print(max([(i,s) for i, s in enumerate(reka2.in_hand.values()) if s]))\n",
    "#print(max([(i,s) for i, s in enumerate(reka.in_hand.values()) if s]) == max([(i,s) for i, s in enumerate(reka2.in_hand.values()) if s]))\n",
    "\n",
    "#print(reka2.in_hand[\"high_card\"])\n",
    "#print(max([(i,s) for i, s in enumerate(reka.in_hand.values()) if s]) == max([(i,s) for i, s in enumerate(reka2.in_hand.values()) if s]))\n",
    "print(sorted([reka, reka2])[-1] == reka2)\n"
   ]
  },
  {
   "cell_type": "code",
   "execution_count": 10,
   "metadata": {},
   "outputs": [],
   "source": [
    "talia = Deck()\n",
    "\n",
    "def poker_monte_carlo(karty_w_rece : list, ilosc_graczy = 2, wielkosc_proby = 1_000_0):\n",
    "    wygrane = 0\n",
    "    for game in range(wielkosc_proby):\n",
    "        gracze = []\n",
    "        moja_reka = Hand()\n",
    "        gracze.append(moja_reka)\n",
    "        moja_reka.get_specific_cards(talia, karty_w_rece)\n",
    "        moja_reka.check_hand()\n",
    "        talia.reset()\n",
    "        talia.shuffle()\n",
    "\n",
    "        for i in range(ilosc_graczy-1):\n",
    "            gracze.append(Hand())\n",
    "            gracze[-1].get_card(talia,5)\n",
    "            gracze[-1].check_hand()\n",
    "\n",
    "        wygrane += sorted(gracze)[-1] == moja_reka\n",
    "\n",
    "    print(f' prawdopodobieństwo wygranej z ręką: {sorted(moja_reka.cards_in_hand)}, przy {ilosc_graczy} graczach wynosi:\\n{wygrane/wielkosc_proby*100:.2f} %')\n",
    "    return wygrane/wielkosc_proby"
   ]
  },
  {
   "cell_type": "code",
   "execution_count": 40,
   "metadata": {},
   "outputs": [
    {
     "name": "stdout",
     "output_type": "stream",
     "text": [
      " prawdopodobieństwo wygranej z ręką: [3S, 10H, 10S, QS, AD], przy 2 graczach wynosi:\n",
      "86.97 %\n",
      " prawdopodobieństwo wygranej z ręką: [3S, 10H, 10S, QS, AD], przy 3 graczach wynosi:\n",
      "76.42 %\n",
      " prawdopodobieństwo wygranej z ręką: [3S, 10H, 10S, QS, AD], przy 4 graczach wynosi:\n",
      "67.88 %\n",
      " prawdopodobieństwo wygranej z ręką: [3S, 10H, 10S, QS, AD], przy 5 graczach wynosi:\n",
      "62.34 %\n",
      " prawdopodobieństwo wygranej z ręką: [3S, 10H, 10S, QS, AD], przy 6 graczach wynosi:\n",
      "56.64 %\n",
      " prawdopodobieństwo wygranej z ręką: [3S, 10H, 10S, QS, AD], przy 7 graczach wynosi:\n",
      "53.02 %\n",
      " prawdopodobieństwo wygranej z ręką: [3S, 10H, 10S, QS, AD], przy 8 graczach wynosi:\n",
      "50.33 %\n",
      " prawdopodobieństwo wygranej z ręką: [3S, 10H, 10S, QS, AD], przy 9 graczach wynosi:\n",
      "47.58 %\n"
     ]
    }
   ],
   "source": [
    "a = {\n",
    "    2:0,\n",
    "    3:0,\n",
    "    4:0,\n",
    "    5:0,\n",
    "    6:0,\n",
    "    7:0,\n",
    "    8:0,\n",
    "    9:0\n",
    "    }\n",
    "karteluszki = ['10H', '3S', 'AD', '10S', 'QS']\n",
    "for i in a.keys():\n",
    "    a[i] = poker_monte_carlo(karteluszki,i)"
   ]
  },
  {
   "cell_type": "code",
   "execution_count": 53,
   "metadata": {},
   "outputs": [
    {
     "name": "stdout",
     "output_type": "stream",
     "text": [
      "{2: 0.8697, 3: 0.7642, 4: 0.6788, 5: 0.6234, 6: 0.5664, 7: 0.5302, 8: 0.5033, 9: 0.4758}\n"
     ]
    },
    {
     "data": {
      "image/png": "[encoded data removed]",
      "text/plain": [
       "<Figure size 500x500 with 1 Axes>"
      ]
     },
     "metadata": {
      "needs_background": "light"
     },
     "output_type": "display_data"
    }
   ],
   "source": [
    "from tkinter import S\n",
    "from turtle import color\n",
    "import seaborn as sns\n",
    "import numpy as np\n",
    "import matplotlib.pyplot as plt\n",
    "import pandas as pd\n",
    "print(a)\n",
    "#print(np.diff(list(a.values())))\n",
    "\n",
    "plt.rcParams['figure.dpi'] = 100\n",
    "plt.rcParams['figure.figsize'] = 10,5\n",
    "\n",
    "#sns.scatterplot(data = a, color = 'red')\n",
    "aa = pd.DataFrame().assign(X = a.keys(), Y = a.values())\n",
    "sns.lmplot(data = aa, x= 'X', y = 'Y', order = 2)\n",
    "sns.scatterplot(data = a, color = 'red', legend = True)\n",
    "sns.lineplot(data = a, color = 'red', legend = True)\n",
    "plt.title(f'szanse na wygraną z kartami: {\" \".join(sorted(karteluszki))}')\n",
    "plt.xticks([2,3,4,5,6,7,8,9])\n",
    "plt.xlabel('Ilość graczy przy stole')\n",
    "plt.ylabel('Prawdopodobieństwo wygranej')\n",
    "#plt.legend()\n",
    "plt.show()"
   ]
  },
  {
   "cell_type": "code",
   "execution_count": 47,
   "metadata": {},
   "outputs": [
    {
     "data": {
      "text/html": [
       "<div>\n",
       "<style scoped>\n",
       "    .dataframe tbody tr th:only-of-type {\n",
       "        vertical-align: middle;\n",
       "    }\n",
       "\n",
       "    .dataframe tbody tr th {\n",
       "        vertical-align: top;\n",
       "    }\n",
       "\n",
       "    .dataframe thead th {\n",
       "        text-align: right;\n",
       "    }\n",
       "</style>\n",
       "<table border=\"1\" class=\"dataframe\">\n",
       "  <thead>\n",
       "    <tr style=\"text-align: right;\">\n",
       "      <th></th>\n",
       "      <th>X</th>\n",
       "      <th>Y</th>\n",
       "    </tr>\n",
       "  </thead>\n",
       "  <tbody>\n",
       "    <tr>\n",
       "      <th>0</th>\n",
       "      <td>2</td>\n",
       "      <td>0.8697</td>\n",
       "    </tr>\n",
       "    <tr>\n",
       "      <th>1</th>\n",
       "      <td>3</td>\n",
       "      <td>0.7642</td>\n",
       "    </tr>\n",
       "    <tr>\n",
       "      <th>2</th>\n",
       "      <td>4</td>\n",
       "      <td>0.6788</td>\n",
       "    </tr>\n",
       "    <tr>\n",
       "      <th>3</th>\n",
       "      <td>5</td>\n",
       "      <td>0.6234</td>\n",
       "    </tr>\n",
       "    <tr>\n",
       "      <th>4</th>\n",
       "      <td>6</td>\n",
       "      <td>0.5664</td>\n",
       "    </tr>\n",
       "    <tr>\n",
       "      <th>5</th>\n",
       "      <td>7</td>\n",
       "      <td>0.5302</td>\n",
       "    </tr>\n",
       "    <tr>\n",
       "      <th>6</th>\n",
       "      <td>8</td>\n",
       "      <td>0.5033</td>\n",
       "    </tr>\n",
       "    <tr>\n",
       "      <th>7</th>\n",
       "      <td>9</td>\n",
       "      <td>0.4758</td>\n",
       "    </tr>\n",
       "  </tbody>\n",
       "</table>\n",
       "</div>"
      ],
      "text/plain": [
       "   X       Y\n",
       "0  2  0.8697\n",
       "1  3  0.7642\n",
       "2  4  0.6788\n",
       "3  5  0.6234\n",
       "4  6  0.5664\n",
       "5  7  0.5302\n",
       "6  8  0.5033\n",
       "7  9  0.4758"
      ]
     },
     "execution_count": 47,
     "metadata": {},
     "output_type": "execute_result"
    }
   ],
   "source": [
    "aa"
   ]
  },
  {
   "cell_type": "markdown",
   "metadata": {},
   "source": [
    "<p><i>małe testy ręki</i></p>"
   ]
  },
  {
   "cell_type": "code",
   "execution_count": null,
   "metadata": {},
   "outputs": [
    {
     "name": "stdout",
     "output_type": "stream",
     "text": [
      "prawdopodobieństwo wyciągnięcia pary wynosi     42.237%\n",
      "prawdopodobieństwo wyciągnięcia 2 par  wynosi   4.738%\n",
      "prawdopodobieństwo wyciągnięcia trójki wynosi   2.087%\n",
      "prawdopodobieństwo wyciągnięcia strita wynoisi  0.356%\n",
      "prawdopodobieństwo wyciągnięcia koloru wynoisi  0.195%\n",
      "prawdopodobieństwo wyciągnięcia Fulla wynosi    0.142%\n",
      "prawdopodobieństwo wyciągnięcia karety wynosi   0.021%\n",
      "prawdopodobieństwo wyciągnięcia pokerka         0.0019%\n"
     ]
    }
   ],
   "source": [
    "n_of_pairs = 0\n",
    "n_of_two_pairs = 0\n",
    "n_of_threes = 0\n",
    "n_of_fours = 0\n",
    "n_of_full_houses = 0\n",
    "n_of_straights = 0\n",
    "n_of_flushes = 0\n",
    "n_of_straight_flushes = 0\n",
    "n = 1_000_000\n",
    "t = Deck()\n",
    "t.shuffle()\n",
    "h1 = Hand()\n",
    "for i in range(n):\n",
    "    h1.get_card(t,5)\n",
    "    h1.check_hand()\n",
    "    if len(h1.in_hand['fours']) == 1:\n",
    "        n_of_fours +=1\n",
    "    elif h1.in_hand['straight_flush']:\n",
    "        n_of_straight_flushes += 1\n",
    "    elif h1.in_hand['flush']:\n",
    "        n_of_flushes +=1\n",
    "    elif h1.in_hand['straight']: \n",
    "        n_of_straights +=1\n",
    "    elif h1.in_hand['full_house']:\n",
    "        n_of_full_houses += 1\n",
    "    elif len(h1.in_hand['threes']) == 1:\n",
    "        n_of_threes +=1\n",
    "    elif len(h1.in_hand['pairs']) == 2:\n",
    "        n_of_two_pairs += 1\n",
    "    elif len(h1.in_hand['pairs']) == 1:\n",
    "        n_of_pairs += 1\n",
    "    \n",
    "    h1.reset_hand()\n",
    "    t.reset()\n",
    "print(f'prawdopodobieństwo wyciągnięcia pary wynosi     {n_of_pairs/n*100:.3f}%')\n",
    "print(f'prawdopodobieństwo wyciągnięcia 2 par  wynosi   {n_of_two_pairs/n*100:.3f}%')\n",
    "print(f'prawdopodobieństwo wyciągnięcia trójki wynosi   {n_of_threes/n*100:.3f}%')\n",
    "print(f'prawdopodobieństwo wyciągnięcia strita wynoisi  {n_of_straights/n*100:.3f}%')\n",
    "print(f'prawdopodobieństwo wyciągnięcia koloru wynoisi  {n_of_flushes/n*100:.3f}%')\n",
    "print(f'prawdopodobieństwo wyciągnięcia Fulla wynosi    {n_of_full_houses/n*100:.3f}%')\n",
    "print(f'prawdopodobieństwo wyciągnięcia karety wynosi   {n_of_fours/n*100:.3f}%')\n",
    "print(f'prawdopodobieństwo wyciągnięcia pokerka         {n_of_straight_flushes/n*100:.4f}%')\n"
   ]
  },
  {
   "cell_type": "markdown",
   "metadata": {},
   "source": [
    "class Player:\n",
    "    def __init__(self, name = ''):        \n",
    "        self.name = name\n",
    "        self.balance = 0\n",
    "        self.hand = Hand()\n",
    "        self.hand_history = []\n",
    "    def __repr__(self):\n",
    "        return f\"\"\"  \\n player name:{self.name} \\n current $$ :{self.balance} \\n cards in hand: {self.hand.cards_in_hand}\\n high card :{self.hand.high_card}\"\"\"\n"
   ]
  },
  {
   "cell_type": "markdown",
   "metadata": {},
   "source": [
    "class Game:\n",
    "    def __init__(self, players, blind = 0):\n",
    "        self.start_time = None  # to work on\n",
    "        self.end_time   = None  #  as above\n",
    "        self.list_of_players= [] \n",
    "        self.deck = Deck()\n",
    "        self.deck.shuffle()\n",
    "\n",
    "        for player in players:\n",
    "            self.list_of_players.append(player)\n",
    "        \n",
    "        self.loot = blind\n",
    "        self.blind_value = 0\n",
    "        self.small_blind_value = self.blind_value//2\n",
    "        self.loot = self.blind_value + self.small_blind_value\n",
    "\n",
    "    def end_game(self):\n",
    "        return True\n"
   ]
  }
 ],
 "metadata": {
  "kernelspec": {
   "display_name": "Python 3.9.7 ('base')",
   "language": "python",
   "name": "python3"
  },
  "language_info": {
   "codemirror_mode": {
    "name": "ipython",
    "version": 3
   },
   "file_extension": ".py",
   "mimetype": "text/x-python",
   "name": "python",
   "nbconvert_exporter": "python",
   "pygments_lexer": "ipython3",
   "version": "3.9.7"
  },
  "orig_nbformat": 4,
  "vscode": {
   "interpreter": {
    "hash": "c463f9c92d48ccfb23e4d23c8ef7d8d8a42072a680e73588cc5b059f3c0aa889"
   }
  }
 },
 "nbformat": 4,
 "nbformat_minor": 2
}
