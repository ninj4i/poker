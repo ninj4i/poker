{
 "cells": [
  {
   "cell_type": "code",
   "execution_count": 2,
   "metadata": {},
   "outputs": [],
   "source": [
    "import random as rng\n",
    "from itertools import product\n",
    "from collections import Counter"
   ]
  },
  {
   "cell_type": "markdown",
   "metadata": {},
   "source": [
    "<h3> DEFINICJA OBIEKTU KARTA </h3>\n",
    "<p> karta może być figurą od 2 do A, i mieć kolor:<br> [H]eart [D]iamonds [C]lubs [S]pades<br> KIER___KARO_____TREFL__PIK</p>\n",
    "\n",
    "<p>kazda figura ma przypisaną rangę (self.rank) od 0 do 12. <br>Rangi pozwalają na sortowanie kart</p>"
   ]
  },
  {
   "cell_type": "code",
   "execution_count": 3,
   "metadata": {},
   "outputs": [],
   "source": [
    "class Card:\n",
    "    def __init__(self,fig,col):\n",
    "        self.slownik =[\n",
    "            {\n",
    "            '2' : '2',\n",
    "            '3' : '3',\n",
    "            '4' : '4',\n",
    "            '5' : '5',\n",
    "            '6' : '6',\n",
    "            '7' : '7',\n",
    "            '8' : '8',\n",
    "            '9' : '9',\n",
    "            '10' : '10',\n",
    "            'J' : 'Jack',\n",
    "            'Q' : 'Queen',\n",
    "            'K' : 'King',\n",
    "            'A' : 'Ace'},\n",
    "            {\n",
    "            'H': 'Hearts',\n",
    "            'D': 'Diamonds',\n",
    "            'C': 'Clubs',\n",
    "            'S': 'Spades'}\n",
    "            ]\n",
    "        \n",
    "        \n",
    "        while fig.upper() not in self.slownik[0].keys():\n",
    "            print('błędne oznaczenie figury karty')\n",
    "            fig = input('Podaj poprawne oznaczenie figury karty: ')\n",
    "        self.figure = fig.upper()\n",
    "        \n",
    "        while col.upper() not in self.slownik[1].keys():\n",
    "            print('błędne oznaczenie koloru karty')\n",
    "            col = input('Podaj poprawne oznaczenie koloru karty: ')\n",
    "        self.colour = col.upper()\n",
    "        \n",
    "\n",
    "        rank_dict = {figure : rank for rank,figure in enumerate(self.slownik[0].keys())}\n",
    "        self.rank_of_card = rank_dict[self.figure]\n",
    "\n",
    "    def __enter__(self):\n",
    "        return self\n",
    "\n",
    "    def __str__(self):\n",
    "        return f'{self.slownik[0][self.figure]} of {self.slownik[1][self.colour]}'\n",
    "    \n",
    "    def __repr__(self):\n",
    "        return f'{self.figure}{self.colour}'\n",
    "\n",
    "    def __lt__(self,other):\n",
    "        return self.rank_of_card < other.rank_of_card\n",
    "    def __le__(self,other):\n",
    "        return self.rank_of_card <= other.rank_of_card\n",
    "    def __gt__(self,other):\n",
    "        return self.rank_of_card > other.rank_of_card\n",
    "    def __ge__(self,other):\n",
    "        return self.rank_of_card >= other.rank_of_card\n",
    "    def __eq__(self,other):\n",
    "        return self.rank_of_card == other.rank_of_card\n"
   ]
  },
  {
   "cell_type": "markdown",
   "metadata": {},
   "source": [
    "<p>małe testy karty </p>"
   ]
  },
  {
   "cell_type": "code",
   "execution_count": 4,
   "metadata": {},
   "outputs": [
    {
     "name": "stdout",
     "output_type": "stream",
     "text": [
      "AD\n",
      "True\n"
     ]
    }
   ],
   "source": [
    "print(Card('A', 'D').__repr__())\n",
    "print(Card('3', 'h') < Card('j','s'))"
   ]
  },
  {
   "cell_type": "markdown",
   "metadata": {},
   "source": [
    "<h3> DEFINICJA OBIEKTU TALIA </h3> "
   ]
  },
  {
   "cell_type": "code",
   "execution_count": 5,
   "metadata": {},
   "outputs": [],
   "source": [
    "class Deck:\n",
    "    def __init__(self):\n",
    "        figures = '2 3 4 5 6 7 8 9 10 J Q K A'.split()\n",
    "        colours = 'H D C S'.split()\n",
    "        self.talia = []\n",
    "        for i in product (figures, colours):\n",
    "            self.talia.append(Card(i[0], i[1]))\n",
    "    def __len__(self):\n",
    "        return len(self.talia)\n",
    "    \n",
    "    def __enter__(self):\n",
    "        return self\n",
    "\n",
    "    def __str__(self):\n",
    "        return f'karty w talii [{len(self)}]: \\n{self.talia}\\n * * * * *'\n",
    "    def shuffle(self):\n",
    "        temp_deck = self.talia[:]\n",
    "        self.talia = []\n",
    "        while temp_deck:\n",
    "            self.talia.append(temp_deck.pop(rng.randint(0,len(temp_deck)-1)))\n",
    "        #print(temp_deck)\n",
    "    def draw(self, n = 1):\n",
    "        card_list = []\n",
    "        while n:\n",
    "            card_list.append(self.talia.pop())\n",
    "            n-=1\n",
    "        return card_list\n",
    "    def reset(self):\n",
    "        self.__init__()\n",
    "        self.shuffle()\n",
    "\n"
   ]
  },
  {
   "cell_type": "markdown",
   "metadata": {},
   "source": [
    "małe testy talii"
   ]
  },
  {
   "cell_type": "code",
   "execution_count": 6,
   "metadata": {},
   "outputs": [
    {
     "name": "stdout",
     "output_type": "stream",
     "text": [
      "karty w talii [52]: \n",
      "[2H, 2D, 2C, 2S, 3H, 3D, 3C, 3S, 4H, 4D, 4C, 4S, 5H, 5D, 5C, 5S, 6H, 6D, 6C, 6S, 7H, 7D, 7C, 7S, 8H, 8D, 8C, 8S, 9H, 9D, 9C, 9S, 10H, 10D, 10C, 10S, JH, JD, JC, JS, QH, QD, QC, QS, KH, KD, KC, KS, AH, AD, AC, AS]\n",
      " * * * * *\n",
      "[AS, AC, AD, AH, KS, KC, KD, KH, QS, QC]\n",
      "10\n",
      "karty w talii [42]: \n",
      "[2H, 2D, 2C, 2S, 3H, 3D, 3C, 3S, 4H, 4D, 4C, 4S, 5H, 5D, 5C, 5S, 6H, 6D, 6C, 6S, 7H, 7D, 7C, 7S, 8H, 8D, 8C, 8S, 9H, 9D, 9C, 9S, 10H, 10D, 10C, 10S, JH, JD, JC, JS, QH, QD]\n",
      " * * * * *\n",
      "42\n"
     ]
    }
   ],
   "source": [
    "t = Deck()\n",
    "print(t)\n",
    "x = t.draw(10)\n",
    "print(x)\n",
    "print(len(x))\n",
    "print(t)\n",
    "print(len(t))"
   ]
  },
  {
   "cell_type": "code",
   "execution_count": 82,
   "metadata": {},
   "outputs": [],
   "source": [
    "class Hand:\n",
    "    def __init__(self):\n",
    "        self.cards_in_hand = []\n",
    "        self.high_card = None\n",
    "        self.in_hand = {\n",
    "            'pairs' : [],  # pairs\n",
    "            'threes' : [], # threes\n",
    "            'straights' : [], # straights\n",
    "            'flush' : [], # flushes\n",
    "            'full_house' : [], #full house\n",
    "            'fours' : [], # fours of a kind\n",
    "            'straight_flush' : [] # straight flushes\n",
    "            }\n",
    "    def get_card(self, talia: Deck, n :int):\n",
    "        for card in talia.draw(n):\n",
    "            self.cards_in_hand.append(card)\n",
    "        self.find_high_card()\n",
    "    \n",
    "    def find_high_card(self):\n",
    "        self.high_card = (self.cards_in_hand[0])\n",
    "        for card in self.cards_in_hand:\n",
    "            if card.rank_of_card > self.high_card.rank_of_card:\n",
    "                self.high_card = card\n",
    "\n",
    "    def __str__(self):\n",
    "        return f'cards in hand:\\n{sorted(self.cards_in_hand)}\\nHigh Card: {self.high_card}'\n",
    "\n",
    "    def reset_hand(self):\n",
    "        self.__init__()\n",
    "    def check_hand(self):\n",
    "        #print('**********')\n",
    "        \n",
    "        figures_in_hand = [card.figure for card in self.cards_in_hand]  \n",
    "        #print(self.cards_in_hand)\n",
    "        #print(f'{sorted(figures_in_hand)=}')\n",
    "        ile_czego = list(Counter(sorted(figures_in_hand)).items())\n",
    "        #print(f'{ile_czego = }')\n",
    "        while len(ile_czego):\n",
    "            a = ile_czego.pop()\n",
    "            if a[1] == 2:\n",
    "                self.in_hand['pairs'].append(a[0])\n",
    "            elif a[1] == 3:\n",
    "                self.in_hand['threes'].append(a[0])\n",
    "            elif a[1] == 4:\n",
    "                self.in_hand['fours'].append(a[0])\n",
    "        #print(self.in_hand)\n",
    "        #print([q for q in self.in_hand.items() if q[1] != []])"
   ]
  },
  {
   "cell_type": "markdown",
   "metadata": {},
   "source": [
    "<p><i>małe testy ręki</i></p>"
   ]
  },
  {
   "cell_type": "code",
   "execution_count": 92,
   "metadata": {},
   "outputs": [
    {
     "name": "stdout",
     "output_type": "stream",
     "text": [
      "4.78%\n"
     ]
    }
   ],
   "source": [
    "n_of_threes = 0\n",
    "n = 2_000_0\n",
    "t = Deck()\n",
    "t.shuffle()\n",
    "h1 = Hand()\n",
    "for i in range(n):\n",
    "    h1.get_card(t,5)\n",
    "    h1.check_hand()\n",
    "    if len(h1.in_hand['pairs']) == 2:\n",
    "        n_of_threes +=1\n",
    "    h1.reset_hand()\n",
    "    t.reset()\n",
    "print(f'{n_of_threes/n*100:.2f}%')"
   ]
  },
  {
   "cell_type": "code",
   "execution_count": 9,
   "metadata": {},
   "outputs": [
    {
     "name": "stdout",
     "output_type": "stream",
     "text": [
      "  \n",
      " player name:Ziutek \n",
      " current $$ :0 \n",
      " cards in hand: [5C, 10H]\n",
      " high card :10 of Hearts\n",
      "  \n",
      " player name:Fiutek \n",
      " current $$ :0 \n",
      " cards in hand: [2S, 9C]\n",
      " high card :9 of Clubs\n"
     ]
    }
   ],
   "source": [
    "class Player:\n",
    "    def __init__(self, name = ''):        \n",
    "        self.name = name\n",
    "        self.balance = 0\n",
    "        self.hand = Hand()\n",
    "        self.hand_history = []\n",
    "    def __repr__(self):\n",
    "        return f\"\"\"  \\n player name:{self.name} \\n current $$ :{self.balance} \\n cards in hand: {self.hand.cards_in_hand}\\n high card :{self.hand.high_card}\"\"\"\n",
    "p1 = Player ('Ziutek')\n",
    "p1.hand.get_card(t,2)\n",
    "p2 = Player ('Fiutek')\n",
    "p2.hand.get_card(t,2)\n",
    "print(p1)\n",
    "print(p2)\n"
   ]
  },
  {
   "cell_type": "code",
   "execution_count": 10,
   "metadata": {},
   "outputs": [],
   "source": [
    "class Game:\n",
    "    def __init__(self, players, blind = 0):\n",
    "        self.start_time = None  # to work on\n",
    "        self.end_time   = None  #  as above\n",
    "        self.list_of_players= [] \n",
    "        self.deck = Deck()\n",
    "        self.deck.shuffle()\n",
    "\n",
    "        for player in players:\n",
    "            self.list_of_players.append(player)\n",
    "        \n",
    "        self.loot = blind\n",
    "        self.blind_value = 0\n",
    "        self.small_blind_value = self.blind_value//2\n",
    "        self.loot = self.blind_value + self.small_blind_value\n",
    "\n",
    "    def end_game(self):\n",
    "        return True\n"
   ]
  }
 ],
 "metadata": {
  "kernelspec": {
   "display_name": "Python 3.9.7 ('base')",
   "language": "python",
   "name": "python3"
  },
  "language_info": {
   "codemirror_mode": {
    "name": "ipython",
    "version": 3
   },
   "file_extension": ".py",
   "mimetype": "text/x-python",
   "name": "python",
   "nbconvert_exporter": "python",
   "pygments_lexer": "ipython3",
   "version": "3.9.7"
  },
  "orig_nbformat": 4,
  "vscode": {
   "interpreter": {
    "hash": "c463f9c92d48ccfb23e4d23c8ef7d8d8a42072a680e73588cc5b059f3c0aa889"
   }
  }
 },
 "nbformat": 4,
 "nbformat_minor": 2
}
