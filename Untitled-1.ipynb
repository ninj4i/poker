{
 "cells": [
  {
   "cell_type": "code",
   "execution_count": 85,
   "metadata": {},
   "outputs": [],
   "source": [
    "import random as rng\n",
    "from itertools import product"
   ]
  },
  {
   "cell_type": "code",
   "execution_count": 86,
   "metadata": {},
   "outputs": [],
   "source": [
    "class Card:\n",
    "    def __init__(self,fig,col):\n",
    "        self.colour = col\n",
    "        self.figure = fig\n",
    "        self.slownik =[\n",
    "            {\n",
    "            '2' : '2',\n",
    "            '3' : '3',\n",
    "            '4' : '4',\n",
    "            '5' : '5',\n",
    "            '6' : '6',\n",
    "            '7' : '7',\n",
    "            '8' : '8',\n",
    "            '9' : '9',\n",
    "            '10' : '10',\n",
    "            'J' : 'Jack',\n",
    "            'Q' : 'Queen',\n",
    "            'K' : 'King',\n",
    "            'A' : 'Ace'},\n",
    "            {\n",
    "            'H': 'Hearts',\n",
    "            'D': 'Diamonds',\n",
    "            'C': 'Clubs',\n",
    "            'S': 'Spades'}\n",
    "            ]\n",
    "    \n",
    "    def __str__(self):\n",
    "        return f'{self.slownik[0][self.figure]} of {self.slownik[1][self.colour]}'\n",
    "    \n",
    "    def __repr__(self):\n",
    "        return f'{self.figure}{self.colour}'\n"
   ]
  },
  {
   "cell_type": "code",
   "execution_count": 87,
   "metadata": {},
   "outputs": [
    {
     "name": "stdout",
     "output_type": "stream",
     "text": [
      "[6S, 10H, 8S, 8C, AC, AS, 9S, 4H, 4C, KS, 2C, 5S, 9D, 3S, 3C, 6H, 6C, KC, 4D, KH, QC, AH, 5C, KD, 3H, 7C, 7H, 5D, 8D, QS, JD, 7D, AD, 8H, 2H, 4S, 2D, 9C, JS, 10C, JH, 7S, 6D, 9H, 5H, 10D, 2S, QD, JC, QH, 10S, 3D]\n",
      "[3D, 10S, QH, JC, QD]\n",
      "[6S, 10H, 8S, 8C, AC, AS, 9S, 4H, 4C, KS, 2C, 5S, 9D, 3S, 3C, 6H, 6C, KC, 4D, KH, QC, AH, 5C, KD, 3H, 7C, 7H, 5D, 8D, QS, JD, 7D, AD, 8H, 2H, 4S, 2D, 9C, JS, 10C, JH, 7S, 6D, 9H, 5H, 10D, 2S]\n",
      "[6D, 3S, 9H, 8C, 7H, 3C, 5D, 2H, KH, 8D, AD, AS, JS, 9C, 10C, JD, 3H, 10H, 4S, 4D, JH, KS, 6H, 5C, KC, 6C, 2C, 3D, 7D, QC, 7S, 7C, QD, 8S, AC, 9S, 2D, QH, 5S, 9D, 10D, AH, JC, 4H, 5H, 6S, KD, 2S, 10S, 4C, 8H, QS]\n"
     ]
    }
   ],
   "source": [
    "class Deck:\n",
    "    def __init__(self):\n",
    "        figures = '2 3 4 5 6 7 8 9 10 J Q K A'.split()\n",
    "        colours = 'H D C S'.split()\n",
    "        self.talia = []\n",
    "        for i in product (figures, colours):\n",
    "            self.talia.append(Card(i[0], i[1]))\n",
    "    def shuffle(self):\n",
    "        temp_deck = self.talia[:]\n",
    "        self.talia = []\n",
    "        while temp_deck:\n",
    "            self.talia.append(temp_deck.pop(rng.randint(0,len(temp_deck)-1)))\n",
    "        #print(temp_deck)\n",
    "    def draw(self, n = 1):\n",
    "        card_list = []\n",
    "        while n:\n",
    "            card_list.append(self.talia.pop())\n",
    "            n-=1\n",
    "        return card_list\n",
    "    def reset(self):\n",
    "        self.__init__()\n",
    "        self.shuffle()\n",
    "t = Deck()\n",
    "t.shuffle()\n",
    "print(t.talia)\n",
    "print(t.draw(5))\n",
    "print(t.talia)\n",
    "t.reset()\n",
    "print(t.talia)"
   ]
  },
  {
   "cell_type": "code",
   "execution_count": 88,
   "metadata": {},
   "outputs": [],
   "source": [
    "class Hand:\n",
    "    def __init__(self):\n",
    "        self.cards_in_hand = []\n",
    "        self.cards_on_table= []\n",
    "        self.high_card = []\n",
    "    def get_card(self, talia: Deck, n :int):\n",
    "        for card in talia.draw(n):\n",
    "            self.cards_in_hand.append(card)\n",
    "h1 = Hand()\n",
    "h1.get_card(t,2)"
   ]
  },
  {
   "cell_type": "code",
   "execution_count": 96,
   "metadata": {},
   "outputs": [
    {
     "name": "stdout",
     "output_type": "stream",
     "text": [
      "  \n",
      " player name:Ziutek \n",
      " current $$ :0 \n",
      " cards in hand: [6S, 5H]cards on the table :\n",
      " \n"
     ]
    }
   ],
   "source": [
    "class Player:\n",
    "    def __init__(self, name = ''):        \n",
    "        self.name = name\n",
    "        self.balance = 0\n",
    "        self.hand = Hand()\n",
    "        self.hand_history = []\n",
    "    def __repr__(self):\n",
    "        return f\"\"\"  \\n player name:{self.name} \\n current $$ :{self.balance} \\n cards in hand: {self.hand.cards_in_hand}cards on the table :\\n \"\"\"\n",
    "p1 = Player ('Ziutek')\n",
    "p1.hand.get_card(t,2)\n",
    "p2 = Player ('Fiutek')\n",
    "print(p1)\n"
   ]
  },
  {
   "cell_type": "code",
   "execution_count": 98,
   "metadata": {},
   "outputs": [
    {
     "name": "stdout",
     "output_type": "stream",
     "text": [
      "[8C, 3C, 10H]\n",
      "[  \n",
      " player name:Ziutek \n",
      " current $$ :0 \n",
      " cards in hand: [6S, 5H]cards on the table :\n",
      " ,   \n",
      " player name:Fiutek \n",
      " current $$ :0 \n",
      " cards in hand: []cards on the table :\n",
      " ]\n",
      "  \n",
      " player name:Ziutek \n",
      " current $$ :0 \n",
      " cards in hand: [6S, 5H]cards on the table :\n",
      " \n",
      "  \n",
      " player name:Fiutek \n",
      " current $$ :0 \n",
      " cards in hand: []cards on the table :\n",
      " \n"
     ]
    }
   ],
   "source": [
    "class Game:\n",
    "    def __init__(self, players, blind = 0):\n",
    "        self.start_time = None  # to work on\n",
    "        self.end_time   = None  #  as above\n",
    "        self.list_of_players= [] \n",
    "        self.deck = Deck()\n",
    "        self.deck.shuffle()\n",
    "\n",
    "        for player in players:\n",
    "            self.list_of_players.append(player)\n",
    "        \n",
    "        self.loot = blind\n",
    "        self.blind_value = 0\n",
    "        self.small_blind_value = self.blind_value//2\n",
    "        self.loot = self.blind_value + self.small_blind_value\n",
    "    def turn_flop(self):\n",
    "        flop = self.deck.draw(3)\n",
    "        for player in self.list_of_players:\n",
    "            for card in flop:\n",
    "                player.hand.cards_on_table.append(card)\n",
    "        print(flop)\n",
    "            \n",
    "g1 = Game([p1,p2], blind = 100)\n",
    "g1.turn_flop()\n",
    "print(g1.list_of_players)\n",
    "for pl in  g1.list_of_players:\n",
    "    print(pl)"
   ]
  },
  {
   "cell_type": "code",
   "execution_count": null,
   "metadata": {},
   "outputs": [],
   "source": []
  }
 ],
 "metadata": {
  "kernelspec": {
   "display_name": "Python 3.10.6 64-bit",
   "language": "python",
   "name": "python3"
  },
  "language_info": {
   "codemirror_mode": {
    "name": "ipython",
    "version": 3
   },
   "file_extension": ".py",
   "mimetype": "text/x-python",
   "name": "python",
   "nbconvert_exporter": "python",
   "pygments_lexer": "ipython3",
   "version": "3.10.6"
  },
  "orig_nbformat": 4,
  "vscode": {
   "interpreter": {
    "hash": "b03d8830039a21f8e9863406c3e692a22d2384e1bc757efc43562b73b2b2ed12"
   }
  }
 },
 "nbformat": 4,
 "nbformat_minor": 2
}
