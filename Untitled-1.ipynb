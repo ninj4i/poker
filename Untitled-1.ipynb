{
 "cells": [
  {
   "cell_type": "code",
   "execution_count": null,
   "metadata": {},
   "outputs": [],
   "source": []
  },
  {
   "cell_type": "code",
   "execution_count": 56,
   "metadata": {},
   "outputs": [
    {
     "name": "stdout",
     "output_type": "stream",
     "text": [
      "[KD, 7D, 4H, 5D, 3D, 4D, 10D, 10H, JH, 5S, 4C, QC, 9S, KC, QD, AC, 5H, 2D, JC, QS, QH, 6C, KS, 10S, 4S, 3H, 5C, AS, 2C, 6S, 8C, AH, 7C, 6H, 8D, 6D, 7S, 9H, 8H, JS, 7H, 3C, 9D, 10C, 9C, 8S, 2S, KH, JD, AD, 3S, 2H]\n",
      "[KD, 7D, 4H, 5D, 3D, 4D, 10D, 10H, JH, 5S, 4C, QC, 9S, KC, QD, AC, 5H, 2D, JC, QS, QH, 6C, KS, 10S, 4S, 3H, 5C, AS, 2C, 6S, 8C, AH, 7C, 6H, 8D, 6D, 7S, 9H, 8H, JS, 7H, 3C, 9D, 10C, 9C, 8S, 2S]\n",
      "[QD, 4C, 10H, 3D, JS, 9S, AS, 7S, 4H, 10D, 2S, 5S, JC, 3H, 6C, 5H, AC, 3C, 8H, 7C, JD, 2C, AD, 8C, KH, 10S, JH, 9C, QC, 6H, 9H, 2D, QH, 8S, 6S, 3S, KC, QS, 4S, 7H, 2H, 9D, 8D, 6D, 5D, KS, 7D, 5C, 4D, AH, 10C, KD]\n"
     ]
    }
   ],
   "source": [
    "import random as rng\n",
    "from itertools import product\n",
    "\n",
    "\n",
    "class Karta:\n",
    "    def __init__(self,fig,col):\n",
    "        self.colour = col\n",
    "        self.figure = fig\n",
    "        self.slownik =         slownik = [\n",
    "            {\n",
    "            '2' : '2',\n",
    "            '3' : '3',\n",
    "            '4' : '4',\n",
    "            '5' : '5',\n",
    "            '6' : '6',\n",
    "            '7' : '7',\n",
    "            '8' : '8',\n",
    "            '9' : '9',\n",
    "            '10' : '10',\n",
    "            'J' : 'Jack',\n",
    "            'Q' : 'Queen',\n",
    "            'K' : 'King',\n",
    "            'A' : 'Ace'},\n",
    "            {\n",
    "            'H': 'Hearts',\n",
    "            'D': 'Diamonds',\n",
    "            'C': 'Clubs',\n",
    "            'S': 'Spades'}]\n",
    "    \n",
    "    def __str__(self):\n",
    "        return f'{self.slownik[0][self.figure]} of {self.slownik[1][self.colour]}'\n",
    "    \n",
    "    def __repr__(self):\n",
    "        return f'{self.figure}{self.colour}'\n",
    "q = Karta('A','S')\n",
    "\n",
    "q\n",
    "\n",
    "class Talia:\n",
    "    def __init__(self):\n",
    "        figures = '2 3 4 5 6 7 8 9 10 J Q K A'.split()\n",
    "        colours = 'H D C S'.split()\n",
    "        self.talia = []\n",
    "        for i in product (figures, colours):\n",
    "            self.talia.append(Karta(i[0], i[1]))\n",
    "    def shuffle(self):\n",
    "        temp_deck = self.talia[:]\n",
    "        self.talia = []\n",
    "        while temp_deck:\n",
    "            self.talia.append(temp_deck.pop(rng.randint(0,len(temp_deck)-1)))\n",
    "        #print(temp_deck)\n",
    "    def draw(self, n = 1):\n",
    "        card_list = []\n",
    "        while n:\n",
    "            card_list.append(self.talia.pop())\n",
    "            n-=1\n",
    "        return card_list\n",
    "    def reset(self):\n",
    "        self.__init__()\n",
    "        self.shuffle()\n",
    "t = Talia()\n",
    "t.shuffle()\n",
    "print(t.talia)\n",
    "t.draw(5)\n",
    "print(t.talia)\n",
    "t.reset()\n",
    "print(t.talia)"
   ]
  },
  {
   "cell_type": "code",
   "execution_count": null,
   "metadata": {},
   "outputs": [],
   "source": [
    "class Hand:\n",
    "    def __init__(self):\n",
    "        self.cards_in_hand = []\n",
    "\n",
    "    def get_card(self, talia: Talia, n :int):\n",
    "        self.cards_in_hand.append(talia.talia.draw(n))\n",
    "h1 = Hand()\n",
    "h1.get_card(t,2)"
   ]
  }
 ],
 "metadata": {
  "kernelspec": {
   "display_name": "Python 3.10.6 64-bit",
   "language": "python",
   "name": "python3"
  },
  "language_info": {
   "codemirror_mode": {
    "name": "ipython",
    "version": 3
   },
   "file_extension": ".py",
   "mimetype": "text/x-python",
   "name": "python",
   "nbconvert_exporter": "python",
   "pygments_lexer": "ipython3",
   "version": "3.10.6"
  },
  "orig_nbformat": 4,
  "vscode": {
   "interpreter": {
    "hash": "26de051ba29f2982a8de78e945f0abaf191376122a1563185a90213a26c5da77"
   }
  }
 },
 "nbformat": 4,
 "nbformat_minor": 2
}
