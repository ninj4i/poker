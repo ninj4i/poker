{
 "cells": [
  {
   "cell_type": "code",
   "execution_count": 71,
   "metadata": {},
   "outputs": [],
   "source": [
    "import random as rng\n",
    "from itertools import product"
   ]
  },
  {
   "cell_type": "code",
   "execution_count": 72,
   "metadata": {},
   "outputs": [
    {
     "name": "stdout",
     "output_type": "stream",
     "text": [
      "Ace of Diamonds\n"
     ]
    }
   ],
   "source": [
    "class Card:\n",
    "    def __init__(self,fig,col):\n",
    "        self.colour = col\n",
    "        self.figure = fig\n",
    "        self.slownik =[\n",
    "            {\n",
    "            '2' : '2',\n",
    "            '3' : '3',\n",
    "            '4' : '4',\n",
    "            '5' : '5',\n",
    "            '6' : '6',\n",
    "            '7' : '7',\n",
    "            '8' : '8',\n",
    "            '9' : '9',\n",
    "            '10' : '10',\n",
    "            'J' : 'Jack',\n",
    "            'Q' : 'Queen',\n",
    "            'K' : 'King',\n",
    "            'A' : 'Ace'},\n",
    "            {\n",
    "            'H': 'Hearts',\n",
    "            'D': 'Diamonds',\n",
    "            'C': 'Clubs',\n",
    "            'S': 'Spades'}\n",
    "            ]\n",
    "    \n",
    "        rank_dict = {figure : rank for rank,figure in enumerate(self.slownik[0].keys())}\n",
    "        self.rank_of_card = rank_dict[self.figure]\n",
    "    def __str__(self):\n",
    "        return f'{self.slownik[0][self.figure]} of {self.slownik[1][self.colour]}'\n",
    "    \n",
    "    def __repr__(self):\n",
    "        return f'{self.figure}{self.colour}'\n",
    "\n",
    "c = Card('A', 'D')\n",
    "print(c)\n"
   ]
  },
  {
   "cell_type": "markdown",
   "metadata": {},
   "source": [
    "definicja obiektu <u>KARTA</u>, z atrybutamni"
   ]
  },
  {
   "cell_type": "code",
   "execution_count": 73,
   "metadata": {},
   "outputs": [],
   "source": [
    "class Deck:\n",
    "    def __init__(self):\n",
    "        figures = '2 3 4 5 6 7 8 9 10 J Q K A'.split()\n",
    "        colours = 'H D C S'.split()\n",
    "        self.talia = []\n",
    "        for i in product (figures, colours):\n",
    "            self.talia.append(Card(i[0], i[1]))\n",
    "    def shuffle(self):\n",
    "        temp_deck = self.talia[:]\n",
    "        self.talia = []\n",
    "        while temp_deck:\n",
    "            self.talia.append(temp_deck.pop(rng.randint(0,len(temp_deck)-1)))\n",
    "        #print(temp_deck)\n",
    "    def draw(self, n = 1):\n",
    "        card_list = []\n",
    "        while n:\n",
    "            card_list.append(self.talia.pop())\n",
    "            n-=1\n",
    "        return card_list\n",
    "    def reset(self):\n",
    "        self.__init__()\n",
    "        self.shuffle()\n",
    "t = Deck()\n",
    "t.shuffle()\n"
   ]
  },
  {
   "cell_type": "code",
   "execution_count": 74,
   "metadata": {},
   "outputs": [
    {
     "name": "stdout",
     "output_type": "stream",
     "text": [
      "[5H, 9H]\n"
     ]
    }
   ],
   "source": [
    "class Hand:\n",
    "    def __init__(self):\n",
    "        self.cards_in_hand = []\n",
    "        self.cards_on_table= []\n",
    "        self.high_card = None\n",
    "    def get_card(self, talia: Deck, n :int):\n",
    "        for card in talia.draw(n):\n",
    "            self.cards_in_hand.append(card)\n",
    "    def find_high_card(self):\n",
    "        self.high_card = (self.cards_in_hand[0])\n",
    "        for card in self.cards_in_hand+self.cards_on_table:\n",
    "            if card.rank_of_card > self.high_card.rank_of_card:\n",
    "                self.high_card = card\n",
    "h1 = Hand()\n",
    "h1.get_card(t,2)\n",
    "print(h1.cards_in_hand)"
   ]
  },
  {
   "cell_type": "code",
   "execution_count": 75,
   "metadata": {},
   "outputs": [
    {
     "name": "stdout",
     "output_type": "stream",
     "text": [
      "  \n",
      " player name:Ziutek \n",
      " current $$ :0 \n",
      " cards in hand: [4D, 10C]cards on the table []:\n",
      " high card :None\n",
      "  \n",
      " player name:Fiutek \n",
      " current $$ :0 \n",
      " cards in hand: [2H, 8H]cards on the table []:\n",
      " high card :None\n"
     ]
    }
   ],
   "source": [
    "class Player:\n",
    "    def __init__(self, name = ''):        \n",
    "        self.name = name\n",
    "        self.balance = 0\n",
    "        self.hand = Hand()\n",
    "        self.hand_history = []\n",
    "    def __repr__(self):\n",
    "        return f\"\"\"  \\n player name:{self.name} \\n current $$ :{self.balance} \\n cards in hand: {self.hand.cards_in_hand}cards on the table {self.hand.cards_on_table}:\\n high card :{self.hand.high_card}\"\"\"\n",
    "p1 = Player ('Ziutek')\n",
    "p1.hand.get_card(t,2)\n",
    "p2 = Player ('Fiutek')\n",
    "p2.hand.get_card(t,2)\n",
    "print(p1)\n",
    "print(p2)\n"
   ]
  },
  {
   "cell_type": "code",
   "execution_count": 76,
   "metadata": {},
   "outputs": [
    {
     "name": "stdout",
     "output_type": "stream",
     "text": [
      "*********FLOP********\n",
      "  \n",
      " player name:Ziutek \n",
      " current $$ :0 \n",
      " cards in hand: [4D, 10C]cards on the table [8D, 2S, 5C]:\n",
      " high card :10 of Clubs\n",
      "  \n",
      " player name:Fiutek \n",
      " current $$ :0 \n",
      " cards in hand: [2H, 8H]cards on the table [8D, 2S, 5C]:\n",
      " high card :8 of Hearts\n",
      "*********TURN********\n",
      "  \n",
      " player name:Ziutek \n",
      " current $$ :0 \n",
      " cards in hand: [4D, 10C]cards on the table [8D, 2S, 5C, 9D]:\n",
      " high card :10 of Clubs\n",
      "  \n",
      " player name:Fiutek \n",
      " current $$ :0 \n",
      " cards in hand: [2H, 8H]cards on the table [8D, 2S, 5C, 9D]:\n",
      " high card :9 of Diamonds\n",
      "*********RIVER********\n",
      "  \n",
      " player name:Ziutek \n",
      " current $$ :0 \n",
      " cards in hand: [4D, 10C]cards on the table [8D, 2S, 5C, 9D, 10S]:\n",
      " high card :10 of Clubs\n",
      "  \n",
      " player name:Fiutek \n",
      " current $$ :0 \n",
      " cards in hand: [2H, 8H]cards on the table [8D, 2S, 5C, 9D, 10S]:\n",
      " high card :10 of Spades\n"
     ]
    }
   ],
   "source": [
    "class Game:\n",
    "    def __init__(self, players, blind = 0):\n",
    "        self.start_time = None  # to work on\n",
    "        self.end_time   = None  #  as above\n",
    "        self.list_of_players= [] \n",
    "        self.deck = Deck()\n",
    "        self.deck.shuffle()\n",
    "\n",
    "        for player in players:\n",
    "            self.list_of_players.append(player)\n",
    "        \n",
    "        self.loot = blind\n",
    "        self.blind_value = 0\n",
    "        self.small_blind_value = self.blind_value//2\n",
    "        self.loot = self.blind_value + self.small_blind_value\n",
    "    def turn_flop(self):\n",
    "        flop = self.deck.draw(3)\n",
    "        for player in self.list_of_players:\n",
    "            for card in flop:\n",
    "                player.hand.cards_on_table.append(card)\n",
    "        for player in self.list_of_players:\n",
    "            player.hand.find_high_card()\n",
    "        print('*********FLOP********')\n",
    "\n",
    "    def turn_turn(self):\n",
    "        turn = self.deck.draw(1)\n",
    "        for player in self.list_of_players:\n",
    "            player.hand.cards_on_table.append(turn[0])\n",
    "        for player in self.list_of_players:\n",
    "            player.hand.find_high_card()\n",
    "        print('*********TURN********')\n",
    "    def turn_river(self):\n",
    "        turn = self.deck.draw(1)\n",
    "        for player in self.list_of_players:\n",
    "            player.hand.cards_on_table.append(turn[0])\n",
    "        for player in self.list_of_players:\n",
    "            player.hand.find_high_card()\n",
    "        print('*********RIVER********')\n",
    "g1 = Game([p1,p2], blind = 100)\n",
    "g1.turn_flop()\n",
    "print(p1)\n",
    "print(p2)\n",
    "g1.turn_turn()\n",
    "print(p1)\n",
    "print(p2)\n",
    "g1.turn_river()\n",
    "print(p1)\n",
    "print(p2)\n",
    "g1.deck.reset()"
   ]
  },
  {
   "cell_type": "code",
   "execution_count": null,
   "metadata": {},
   "outputs": [],
   "source": []
  }
 ],
 "metadata": {
  "kernelspec": {
   "display_name": "Python 3.10.6 64-bit",
   "language": "python",
   "name": "python3"
  },
  "language_info": {
   "codemirror_mode": {
    "name": "ipython",
    "version": 3
   },
   "file_extension": ".py",
   "mimetype": "text/x-python",
   "name": "python",
   "nbconvert_exporter": "python",
   "pygments_lexer": "ipython3",
   "version": "3.10.6"
  },
  "orig_nbformat": 4,
  "vscode": {
   "interpreter": {
    "hash": "26de051ba29f2982a8de78e945f0abaf191376122a1563185a90213a26c5da77"
   }
  }
 },
 "nbformat": 4,
 "nbformat_minor": 2
}
